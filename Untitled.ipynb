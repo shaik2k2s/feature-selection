{
 "cells": [
  {
   "cell_type": "code",
   "execution_count": null,
   "id": "77ffad97",
   "metadata": {},
   "outputs": [],
   "source": [
    "Step-1: We read the data\n",
    "         \n",
    "        Feature engineering\n",
    "Step-2: You perform all the EDA\n",
    "        your data should be ready for the training\n",
    "        all the columns should be numerical\n",
    "     \n",
    "       \n",
    "Step-3: Feature selection\n",
    "        Select the important features\n",
    "\n",
    "        1) p-value\n",
    "        2) VIF\n",
    "        3) Highest Correlation with target\n",
    "        4) Variance Threshold\n",
    "        5) Mutual info classify\n",
    "           Select K best\n",
    "\n",
    "Step-4:  Divide X and y\n",
    "\n",
    "Step-5:  X_train,y_train,x_test,y_test=traintestsplit()\n",
    "\n",
    "Step-6: Model development\n",
    "        from sklearn.linearmodel import LR\n",
    "\n",
    "Step-7:  Predictions\n",
    "         LR.predict(X_test)  Batch predictions\n",
    "         LR.predict([11])    Real or endpoint\n",
    "\n",
    "Step-8:  Evaluation\n",
    "         MSE  RMSE  Rsquare\n",
    "Step-9: Coefficients\n",
    "    \n",
    "=========================================================\n",
    "model performance you might not happy,\n",
    "even though we select the features\n",
    "\n",
    "we again build the model by apply the std\n",
    "\"\"'''''''''''''''''' the normalization(LR/DL).\n",
    "we again build the model by apply the PCA\n",
    "PCA: i don't want drop the feature, i want to use all the feature\n",
    "but \n",
    "\n",
    "\n",
    "Data is modifying,\n",
    "but here we will build only linear regression \n",
    "\n",
    "\n",
    "pickle "
   ]
  },
  {
   "cell_type": "markdown",
   "id": "946d37ec",
   "metadata": {},
   "source": [
    "# what is the meaning of PCA "
   ]
  },
  {
   "cell_type": "code",
   "execution_count": 2,
   "id": "1f2b2903",
   "metadata": {},
   "outputs": [],
   "source": [
    "import pickle"
   ]
  },
  {
   "cell_type": "code",
   "execution_count": 3,
   "id": "f8834a2e",
   "metadata": {},
   "outputs": [
    {
     "ename": "FileNotFoundError",
     "evalue": "[Errno 2] No such file or directory: 'linear_wine_model.pkl'",
     "output_type": "error",
     "traceback": [
      "\u001b[1;31m---------------------------------------------------------------------------\u001b[0m",
      "\u001b[1;31mFileNotFoundError\u001b[0m                         Traceback (most recent call last)",
      "Cell \u001b[1;32mIn[3], line 1\u001b[0m\n\u001b[1;32m----> 1\u001b[0m model\u001b[38;5;241m=\u001b[39mpickle\u001b[38;5;241m.\u001b[39mload(\u001b[38;5;28mopen\u001b[39m(\u001b[38;5;124m'\u001b[39m\u001b[38;5;124mlinear_wine_model.pkl\u001b[39m\u001b[38;5;124m'\u001b[39m,\u001b[38;5;124m'\u001b[39m\u001b[38;5;124mrb\u001b[39m\u001b[38;5;124m'\u001b[39m))\n\u001b[0;32m      2\u001b[0m model\n",
      "File \u001b[1;32m~\\anaconda3\\Lib\\site-packages\\IPython\\core\\interactiveshell.py:286\u001b[0m, in \u001b[0;36m_modified_open\u001b[1;34m(file, *args, **kwargs)\u001b[0m\n\u001b[0;32m    279\u001b[0m \u001b[38;5;28;01mif\u001b[39;00m file \u001b[38;5;129;01min\u001b[39;00m {\u001b[38;5;241m0\u001b[39m, \u001b[38;5;241m1\u001b[39m, \u001b[38;5;241m2\u001b[39m}:\n\u001b[0;32m    280\u001b[0m     \u001b[38;5;28;01mraise\u001b[39;00m \u001b[38;5;167;01mValueError\u001b[39;00m(\n\u001b[0;32m    281\u001b[0m         \u001b[38;5;124mf\u001b[39m\u001b[38;5;124m\"\u001b[39m\u001b[38;5;124mIPython won\u001b[39m\u001b[38;5;124m'\u001b[39m\u001b[38;5;124mt let you open fd=\u001b[39m\u001b[38;5;132;01m{\u001b[39;00mfile\u001b[38;5;132;01m}\u001b[39;00m\u001b[38;5;124m by default \u001b[39m\u001b[38;5;124m\"\u001b[39m\n\u001b[0;32m    282\u001b[0m         \u001b[38;5;124m\"\u001b[39m\u001b[38;5;124mas it is likely to crash IPython. If you know what you are doing, \u001b[39m\u001b[38;5;124m\"\u001b[39m\n\u001b[0;32m    283\u001b[0m         \u001b[38;5;124m\"\u001b[39m\u001b[38;5;124myou can use builtins\u001b[39m\u001b[38;5;124m'\u001b[39m\u001b[38;5;124m open.\u001b[39m\u001b[38;5;124m\"\u001b[39m\n\u001b[0;32m    284\u001b[0m     )\n\u001b[1;32m--> 286\u001b[0m \u001b[38;5;28;01mreturn\u001b[39;00m io_open(file, \u001b[38;5;241m*\u001b[39margs, \u001b[38;5;241m*\u001b[39m\u001b[38;5;241m*\u001b[39mkwargs)\n",
      "\u001b[1;31mFileNotFoundError\u001b[0m: [Errno 2] No such file or directory: 'linear_wine_model.pkl'"
     ]
    }
   ],
   "source": [
    "model=pickle.load(open('linear_wine_model.pkl','rb'))\n",
    "model"
   ]
  },
  {
   "cell_type": "code",
   "execution_count": null,
   "id": "41815db5",
   "metadata": {},
   "outputs": [],
   "source": []
  },
  {
   "cell_type": "code",
   "execution_count": null,
   "id": "e2eae280",
   "metadata": {},
   "outputs": [],
   "source": []
  },
  {
   "cell_type": "code",
   "execution_count": null,
   "id": "83f01e81",
   "metadata": {},
   "outputs": [],
   "source": []
  }
 ],
 "metadata": {
  "kernelspec": {
   "display_name": "Python 3 (ipykernel)",
   "language": "python",
   "name": "python3"
  },
  "language_info": {
   "codemirror_mode": {
    "name": "ipython",
    "version": 3
   },
   "file_extension": ".py",
   "mimetype": "text/x-python",
   "name": "python",
   "nbconvert_exporter": "python",
   "pygments_lexer": "ipython3",
   "version": "3.11.5"
  }
 },
 "nbformat": 4,
 "nbformat_minor": 5
}
